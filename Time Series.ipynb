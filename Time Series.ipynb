{
 "cells": [
  {
   "cell_type": "code",
   "execution_count": 1,
   "id": "dcc69ade",
   "metadata": {},
   "outputs": [],
   "source": [
    "import pandas as pd\n",
    "import numpy as np\n",
    "import matplotlib.pyplot as plt\n",
    "import os"
   ]
  },
  {
   "cell_type": "markdown",
   "id": "0e208fda",
   "metadata": {},
   "source": [
    "# Aim: To build the Time Series model which forecast the no. of passengers traveling in an airline and check its accuracy."
   ]
  },
  {
   "cell_type": "code",
   "execution_count": 2,
   "id": "491ac6f9",
   "metadata": {},
   "outputs": [],
   "source": [
    "os.chdir('E:\\SkillEnable Class\\Python\\Datasets')"
   ]
  },
  {
   "cell_type": "code",
   "execution_count": 3,
   "id": "e8d5d901",
   "metadata": {},
   "outputs": [],
   "source": [
    "df = pd.read_csv('Air Passengers Exam.csv', parse_dates=['Month'])"
   ]
  },
  {
   "cell_type": "code",
   "execution_count": 4,
   "id": "118627ce",
   "metadata": {},
   "outputs": [
    {
     "data": {
      "text/html": [
       "<div>\n",
       "<style scoped>\n",
       "    .dataframe tbody tr th:only-of-type {\n",
       "        vertical-align: middle;\n",
       "    }\n",
       "\n",
       "    .dataframe tbody tr th {\n",
       "        vertical-align: top;\n",
       "    }\n",
       "\n",
       "    .dataframe thead th {\n",
       "        text-align: right;\n",
       "    }\n",
       "</style>\n",
       "<table border=\"1\" class=\"dataframe\">\n",
       "  <thead>\n",
       "    <tr style=\"text-align: right;\">\n",
       "      <th></th>\n",
       "      <th>Month</th>\n",
       "      <th>#Passengers</th>\n",
       "    </tr>\n",
       "  </thead>\n",
       "  <tbody>\n",
       "    <tr>\n",
       "      <th>0</th>\n",
       "      <td>1949-01-01</td>\n",
       "      <td>112</td>\n",
       "    </tr>\n",
       "    <tr>\n",
       "      <th>1</th>\n",
       "      <td>1949-02-01</td>\n",
       "      <td>118</td>\n",
       "    </tr>\n",
       "    <tr>\n",
       "      <th>2</th>\n",
       "      <td>1949-03-01</td>\n",
       "      <td>132</td>\n",
       "    </tr>\n",
       "    <tr>\n",
       "      <th>3</th>\n",
       "      <td>1949-04-01</td>\n",
       "      <td>129</td>\n",
       "    </tr>\n",
       "    <tr>\n",
       "      <th>4</th>\n",
       "      <td>1949-05-01</td>\n",
       "      <td>121</td>\n",
       "    </tr>\n",
       "    <tr>\n",
       "      <th>...</th>\n",
       "      <td>...</td>\n",
       "      <td>...</td>\n",
       "    </tr>\n",
       "    <tr>\n",
       "      <th>139</th>\n",
       "      <td>1960-08-01</td>\n",
       "      <td>606</td>\n",
       "    </tr>\n",
       "    <tr>\n",
       "      <th>140</th>\n",
       "      <td>1960-09-01</td>\n",
       "      <td>508</td>\n",
       "    </tr>\n",
       "    <tr>\n",
       "      <th>141</th>\n",
       "      <td>1960-10-01</td>\n",
       "      <td>461</td>\n",
       "    </tr>\n",
       "    <tr>\n",
       "      <th>142</th>\n",
       "      <td>1960-11-01</td>\n",
       "      <td>390</td>\n",
       "    </tr>\n",
       "    <tr>\n",
       "      <th>143</th>\n",
       "      <td>1960-12-01</td>\n",
       "      <td>432</td>\n",
       "    </tr>\n",
       "  </tbody>\n",
       "</table>\n",
       "<p>144 rows × 2 columns</p>\n",
       "</div>"
      ],
      "text/plain": [
       "         Month  #Passengers\n",
       "0   1949-01-01          112\n",
       "1   1949-02-01          118\n",
       "2   1949-03-01          132\n",
       "3   1949-04-01          129\n",
       "4   1949-05-01          121\n",
       "..         ...          ...\n",
       "139 1960-08-01          606\n",
       "140 1960-09-01          508\n",
       "141 1960-10-01          461\n",
       "142 1960-11-01          390\n",
       "143 1960-12-01          432\n",
       "\n",
       "[144 rows x 2 columns]"
      ]
     },
     "execution_count": 4,
     "metadata": {},
     "output_type": "execute_result"
    }
   ],
   "source": [
    "df"
   ]
  },
  {
   "cell_type": "code",
   "execution_count": 5,
   "id": "a338f42f",
   "metadata": {},
   "outputs": [],
   "source": [
    "df = df.set_index('Month')"
   ]
  },
  {
   "cell_type": "code",
   "execution_count": 6,
   "id": "2928668e",
   "metadata": {},
   "outputs": [
    {
     "data": {
      "text/plain": [
       "[<matplotlib.lines.Line2D at 0x1b9fed914c0>]"
      ]
     },
     "execution_count": 6,
     "metadata": {},
     "output_type": "execute_result"
    },
    {
     "data": {
      "image/png": "[encoded data removed]",
      "text/plain": [
       "<Figure size 432x288 with 1 Axes>"
      ]
     },
     "metadata": {
      "needs_background": "light"
     },
     "output_type": "display_data"
    }
   ],
   "source": [
    "plt.plot(df)"
   ]
  },
  {
   "cell_type": "code",
   "execution_count": 7,
   "id": "136b9205",
   "metadata": {},
   "outputs": [],
   "source": [
    "# rolling window\n",
    "\n",
    "rollmean = df.rolling(window=12).mean()"
   ]
  },
  {
   "cell_type": "code",
   "execution_count": 8,
   "id": "2705a707",
   "metadata": {},
   "outputs": [
    {
     "data": {
      "text/plain": [
       "[<matplotlib.lines.Line2D at 0x1b9feeebd60>]"
      ]
     },
     "execution_count": 8,
     "metadata": {},
     "output_type": "execute_result"
    },
    {
     "data": {
      "image/png": "[encoded data removed]",
      "text/plain": [
       "<Figure size 432x288 with 1 Axes>"
      ]
     },
     "metadata": {
      "needs_background": "light"
     },
     "output_type": "display_data"
    }
   ],
   "source": [
    "plt.plot(rollmean)"
   ]
  },
  {
   "cell_type": "code",
   "execution_count": 9,
   "id": "5591f58c",
   "metadata": {},
   "outputs": [],
   "source": [
    "# Checking the given data is weather stationary or not using KPSS test\n",
    "\n",
    "from statsmodels.tsa.stattools import kpss"
   ]
  },
  {
   "cell_type": "code",
   "execution_count": 10,
   "id": "dd8d5f11",
   "metadata": {},
   "outputs": [],
   "source": [
    "#significance value(alpha) = 0.05\n",
    "#null hypothesis - The given model is a non - stationary series. (If p-value < 0.05)\n",
    "#alternate hypothesis - The given model is a stationary time series. (If p-value > 0.05)"
   ]
  },
  {
   "cell_type": "code",
   "execution_count": 11,
   "id": "700e2fd3",
   "metadata": {},
   "outputs": [
    {
     "name": "stderr",
     "output_type": "stream",
     "text": [
      "C:\\Users\\User\\anaconda3\\lib\\site-packages\\statsmodels\\tsa\\stattools.py:1875: FutureWarning: The behavior of using nlags=None will change in release 0.13.Currently nlags=None is the same as nlags=\"legacy\", and so a sample-size lag length is used. After the next release, the default will change to be the same as nlags=\"auto\" which uses an automatic lag length selection method. To silence this warning, either use \"auto\" or \"legacy\"\n",
      "  warnings.warn(msg, FutureWarning)\n",
      "C:\\Users\\User\\anaconda3\\lib\\site-packages\\statsmodels\\tsa\\stattools.py:1906: InterpolationWarning: The test statistic is outside of the range of p-values available in the\n",
      "look-up table. The actual p-value is smaller than the p-value returned.\n",
      "\n",
      "  warnings.warn(\n"
     ]
    },
    {
     "data": {
      "text/plain": [
       "(1.0521750110135095,\n",
       " 0.01,\n",
       " 14,\n",
       " {'10%': 0.347, '5%': 0.463, '2.5%': 0.574, '1%': 0.739})"
      ]
     },
     "execution_count": 11,
     "metadata": {},
     "output_type": "execute_result"
    }
   ],
   "source": [
    "result = kpss(df)\n",
    "result"
   ]
  },
  {
   "cell_type": "code",
   "execution_count": 12,
   "id": "751c0c38",
   "metadata": {},
   "outputs": [],
   "source": [
    "df['1 order of differencing'] = df-df.shift()"
   ]
  },
  {
   "cell_type": "code",
   "execution_count": 13,
   "id": "2ac471c8",
   "metadata": {},
   "outputs": [],
   "source": [
    "df = df.dropna()"
   ]
  },
  {
   "cell_type": "code",
   "execution_count": 14,
   "id": "321ecf33",
   "metadata": {},
   "outputs": [
    {
     "name": "stderr",
     "output_type": "stream",
     "text": [
      "C:\\Users\\User\\anaconda3\\lib\\site-packages\\statsmodels\\tsa\\stattools.py:1910: InterpolationWarning: The test statistic is outside of the range of p-values available in the\n",
      "look-up table. The actual p-value is greater than the p-value returned.\n",
      "\n",
      "  warnings.warn(\n"
     ]
    }
   ],
   "source": [
    "result1 = kpss(df['1 order of differencing'])"
   ]
  },
  {
   "cell_type": "code",
   "execution_count": 15,
   "id": "1fc88b95",
   "metadata": {},
   "outputs": [
    {
     "data": {
      "text/plain": [
       "(0.05300976189850532,\n",
       " 0.1,\n",
       " 14,\n",
       " {'10%': 0.347, '5%': 0.463, '2.5%': 0.574, '1%': 0.739})"
      ]
     },
     "execution_count": 15,
     "metadata": {},
     "output_type": "execute_result"
    }
   ],
   "source": [
    "result1"
   ]
  },
  {
   "cell_type": "code",
   "execution_count": 16,
   "id": "90c09912",
   "metadata": {},
   "outputs": [
    {
     "data": {
      "image/png": "[encoded data removed]",
      "text/plain": [
       "<Figure size 432x288 with 1 Axes>"
      ]
     },
     "execution_count": 16,
     "metadata": {},
     "output_type": "execute_result"
    },
    {
     "data": {
      "image/png": "[encoded data removed]",
      "text/plain": [
       "<Figure size 432x288 with 1 Axes>"
      ]
     },
     "metadata": {
      "needs_background": "light"
     },
     "output_type": "display_data"
    }
   ],
   "source": [
    "#Plot ACF chart\n",
    "\n",
    "from statsmodels.graphics.tsaplots import plot_acf, plot_pacf\n",
    "\n",
    "plot_acf(df['1 order of differencing'], lags=10)"
   ]
  },
  {
   "cell_type": "code",
   "execution_count": 17,
   "id": "046a9702",
   "metadata": {},
   "outputs": [
    {
     "data": {
      "image/png": "[encoded data removed]",
      "text/plain": [
       "<Figure size 432x288 with 1 Axes>"
      ]
     },
     "execution_count": 17,
     "metadata": {},
     "output_type": "execute_result"
    },
    {
     "data": {
      "image/png": "[encoded data removed]",
      "text/plain": [
       "<Figure size 432x288 with 1 Axes>"
      ]
     },
     "metadata": {
      "needs_background": "light"
     },
     "output_type": "display_data"
    }
   ],
   "source": [
    "# plot pacf\n",
    "\n",
    "plot_pacf(df['1 order of differencing'], lags=10)"
   ]
  },
  {
   "cell_type": "code",
   "execution_count": 18,
   "id": "831f5448",
   "metadata": {},
   "outputs": [],
   "source": [
    "# spliting into train and test data\n",
    "\n",
    "train = df[['#Passengers']][:110]\n",
    "test = df[['#Passengers']][110:]"
   ]
  },
  {
   "cell_type": "code",
   "execution_count": 19,
   "id": "15d9477f",
   "metadata": {},
   "outputs": [
    {
     "data": {
      "text/plain": [
       "(110, 33)"
      ]
     },
     "execution_count": 19,
     "metadata": {},
     "output_type": "execute_result"
    }
   ],
   "source": [
    "len(train), len(test)"
   ]
  },
  {
   "cell_type": "code",
   "execution_count": 20,
   "id": "76e7d2e9",
   "metadata": {},
   "outputs": [
    {
     "data": {
      "text/html": [
       "<div>\n",
       "<style scoped>\n",
       "    .dataframe tbody tr th:only-of-type {\n",
       "        vertical-align: middle;\n",
       "    }\n",
       "\n",
       "    .dataframe tbody tr th {\n",
       "        vertical-align: top;\n",
       "    }\n",
       "\n",
       "    .dataframe thead th {\n",
       "        text-align: right;\n",
       "    }\n",
       "</style>\n",
       "<table border=\"1\" class=\"dataframe\">\n",
       "  <thead>\n",
       "    <tr style=\"text-align: right;\">\n",
       "      <th></th>\n",
       "      <th>#Passengers</th>\n",
       "    </tr>\n",
       "    <tr>\n",
       "      <th>Month</th>\n",
       "      <th></th>\n",
       "    </tr>\n",
       "  </thead>\n",
       "  <tbody>\n",
       "    <tr>\n",
       "      <th>1949-02-01</th>\n",
       "      <td>118</td>\n",
       "    </tr>\n",
       "    <tr>\n",
       "      <th>1949-03-01</th>\n",
       "      <td>132</td>\n",
       "    </tr>\n",
       "    <tr>\n",
       "      <th>1949-04-01</th>\n",
       "      <td>129</td>\n",
       "    </tr>\n",
       "    <tr>\n",
       "      <th>1949-05-01</th>\n",
       "      <td>121</td>\n",
       "    </tr>\n",
       "    <tr>\n",
       "      <th>1949-06-01</th>\n",
       "      <td>135</td>\n",
       "    </tr>\n",
       "    <tr>\n",
       "      <th>...</th>\n",
       "      <td>...</td>\n",
       "    </tr>\n",
       "    <tr>\n",
       "      <th>1957-11-01</th>\n",
       "      <td>305</td>\n",
       "    </tr>\n",
       "    <tr>\n",
       "      <th>1957-12-01</th>\n",
       "      <td>336</td>\n",
       "    </tr>\n",
       "    <tr>\n",
       "      <th>1958-01-01</th>\n",
       "      <td>340</td>\n",
       "    </tr>\n",
       "    <tr>\n",
       "      <th>1958-02-01</th>\n",
       "      <td>318</td>\n",
       "    </tr>\n",
       "    <tr>\n",
       "      <th>1958-03-01</th>\n",
       "      <td>362</td>\n",
       "    </tr>\n",
       "  </tbody>\n",
       "</table>\n",
       "<p>110 rows × 1 columns</p>\n",
       "</div>"
      ],
      "text/plain": [
       "            #Passengers\n",
       "Month                  \n",
       "1949-02-01          118\n",
       "1949-03-01          132\n",
       "1949-04-01          129\n",
       "1949-05-01          121\n",
       "1949-06-01          135\n",
       "...                 ...\n",
       "1957-11-01          305\n",
       "1957-12-01          336\n",
       "1958-01-01          340\n",
       "1958-02-01          318\n",
       "1958-03-01          362\n",
       "\n",
       "[110 rows x 1 columns]"
      ]
     },
     "execution_count": 20,
     "metadata": {},
     "output_type": "execute_result"
    }
   ],
   "source": [
    "train"
   ]
  },
  {
   "cell_type": "code",
   "execution_count": 21,
   "id": "992911ae",
   "metadata": {},
   "outputs": [
    {
     "name": "stderr",
     "output_type": "stream",
     "text": [
      "C:\\Users\\User\\anaconda3\\lib\\site-packages\\statsmodels\\tsa\\arima_model.py:472: FutureWarning: \n",
      "statsmodels.tsa.arima_model.ARMA and statsmodels.tsa.arima_model.ARIMA have\n",
      "been deprecated in favor of statsmodels.tsa.arima.model.ARIMA (note the .\n",
      "between arima and model) and\n",
      "statsmodels.tsa.SARIMAX. These will be removed after the 0.12 release.\n",
      "\n",
      "statsmodels.tsa.arima.model.ARIMA makes use of the statespace framework and\n",
      "is both well tested and maintained.\n",
      "\n",
      "To silence this warning and continue using ARMA and ARIMA until they are\n",
      "removed, use:\n",
      "\n",
      "import warnings\n",
      "warnings.filterwarnings('ignore', 'statsmodels.tsa.arima_model.ARMA',\n",
      "                        FutureWarning)\n",
      "warnings.filterwarnings('ignore', 'statsmodels.tsa.arima_model.ARIMA',\n",
      "                        FutureWarning)\n",
      "\n",
      "  warnings.warn(ARIMA_DEPRECATION_WARN, FutureWarning)\n",
      "C:\\Users\\User\\anaconda3\\lib\\site-packages\\statsmodels\\tsa\\base\\tsa_model.py:524: ValueWarning: No frequency information was provided, so inferred frequency MS will be used.\n",
      "  warnings.warn('No frequency information was'\n",
      "C:\\Users\\User\\anaconda3\\lib\\site-packages\\statsmodels\\tsa\\base\\tsa_model.py:524: ValueWarning: No frequency information was provided, so inferred frequency MS will be used.\n",
      "  warnings.warn('No frequency information was'\n"
     ]
    },
    {
     "data": {
      "text/html": [
       "<table class=\"simpletable\">\n",
       "<caption>ARIMA Model Results</caption>\n",
       "<tr>\n",
       "  <th>Dep. Variable:</th>   <td>D.#Passengers</td>  <th>  No. Observations:  </th>    <td>109</td>  \n",
       "</tr>\n",
       "<tr>\n",
       "  <th>Model:</th>          <td>ARIMA(1, 1, 0)</td>  <th>  Log Likelihood     </th> <td>-505.847</td>\n",
       "</tr>\n",
       "<tr>\n",
       "  <th>Method:</th>             <td>css-mle</td>     <th>  S.D. of innovations</th>  <td>25.067</td> \n",
       "</tr>\n",
       "<tr>\n",
       "  <th>Date:</th>          <td>Mon, 28 Feb 2022</td> <th>  AIC                </th> <td>1017.693</td>\n",
       "</tr>\n",
       "<tr>\n",
       "  <th>Time:</th>              <td>21:13:32</td>     <th>  BIC                </th> <td>1025.767</td>\n",
       "</tr>\n",
       "<tr>\n",
       "  <th>Sample:</th>           <td>03-01-1949</td>    <th>  HQIC               </th> <td>1020.968</td>\n",
       "</tr>\n",
       "<tr>\n",
       "  <th></th>                 <td>- 03-01-1958</td>   <th>                     </th>     <td> </td>   \n",
       "</tr>\n",
       "</table>\n",
       "<table class=\"simpletable\">\n",
       "<tr>\n",
       "           <td></td>              <th>coef</th>     <th>std err</th>      <th>z</th>      <th>P>|z|</th>  <th>[0.025</th>    <th>0.975]</th>  \n",
       "</tr>\n",
       "<tr>\n",
       "  <th>const</th>               <td>    2.4069</td> <td>    3.220</td> <td>    0.747</td> <td> 0.455</td> <td>   -3.905</td> <td>    8.719</td>\n",
       "</tr>\n",
       "<tr>\n",
       "  <th>ar.L1.D.#Passengers</th> <td>    0.2566</td> <td>    0.093</td> <td>    2.749</td> <td> 0.006</td> <td>    0.074</td> <td>    0.439</td>\n",
       "</tr>\n",
       "</table>\n",
       "<table class=\"simpletable\">\n",
       "<caption>Roots</caption>\n",
       "<tr>\n",
       "    <td></td>   <th>            Real</th>  <th>         Imaginary</th> <th>         Modulus</th>  <th>        Frequency</th>\n",
       "</tr>\n",
       "<tr>\n",
       "  <th>AR.1</th> <td>           3.8977</td> <td>          +0.0000j</td> <td>           3.8977</td> <td>           0.0000</td>\n",
       "</tr>\n",
       "</table>"
      ],
      "text/plain": [
       "<class 'statsmodels.iolib.summary.Summary'>\n",
       "\"\"\"\n",
       "                             ARIMA Model Results                              \n",
       "==============================================================================\n",
       "Dep. Variable:          D.#Passengers   No. Observations:                  109\n",
       "Model:                 ARIMA(1, 1, 0)   Log Likelihood                -505.847\n",
       "Method:                       css-mle   S.D. of innovations             25.067\n",
       "Date:                Mon, 28 Feb 2022   AIC                           1017.693\n",
       "Time:                        21:13:32   BIC                           1025.767\n",
       "Sample:                    03-01-1949   HQIC                          1020.968\n",
       "                         - 03-01-1958                                         \n",
       "=======================================================================================\n",
       "                          coef    std err          z      P>|z|      [0.025      0.975]\n",
       "---------------------------------------------------------------------------------------\n",
       "const                   2.4069      3.220      0.747      0.455      -3.905       8.719\n",
       "ar.L1.D.#Passengers     0.2566      0.093      2.749      0.006       0.074       0.439\n",
       "                                    Roots                                    \n",
       "=============================================================================\n",
       "                  Real          Imaginary           Modulus         Frequency\n",
       "-----------------------------------------------------------------------------\n",
       "AR.1            3.8977           +0.0000j            3.8977            0.0000\n",
       "-----------------------------------------------------------------------------\n",
       "\"\"\""
      ]
     },
     "execution_count": 21,
     "metadata": {},
     "output_type": "execute_result"
    }
   ],
   "source": [
    "#Build ARIMA model\n",
    "\n",
    "#Since Auto-Corelation value at lag 1 is positive and significant, we use Auto Regressive model\n",
    "\n",
    "from statsmodels.tsa.arima_model import ARIMA\n",
    "\n",
    "model_AR=ARIMA(train, order=(1,1,0))\n",
    "\n",
    "summary_model= model_AR.fit(disp = False)\n",
    "summary_model.summary()"
   ]
  },
  {
   "cell_type": "code",
   "execution_count": 22,
   "id": "4a5c89bc",
   "metadata": {},
   "outputs": [
    {
     "data": {
      "image/png": "[encoded data removed]",
      "text/plain": [
       "<Figure size 432x288 with 1 Axes>"
      ]
     },
     "metadata": {
      "needs_background": "light"
     },
     "output_type": "display_data"
    }
   ],
   "source": [
    "forecast = summary_model.plot_predict(2, 144)"
   ]
  },
  {
   "cell_type": "code",
   "execution_count": 23,
   "id": "43ce0f64",
   "metadata": {},
   "outputs": [],
   "source": [
    "test['Predection'] = summary_model.predict(110, 145, typ='levels')"
   ]
  },
  {
   "cell_type": "code",
   "execution_count": 24,
   "id": "7f2731a8",
   "metadata": {},
   "outputs": [
    {
     "data": {
      "text/html": [
       "<div>\n",
       "<style scoped>\n",
       "    .dataframe tbody tr th:only-of-type {\n",
       "        vertical-align: middle;\n",
       "    }\n",
       "\n",
       "    .dataframe tbody tr th {\n",
       "        vertical-align: top;\n",
       "    }\n",
       "\n",
       "    .dataframe thead th {\n",
       "        text-align: right;\n",
       "    }\n",
       "</style>\n",
       "<table border=\"1\" class=\"dataframe\">\n",
       "  <thead>\n",
       "    <tr style=\"text-align: right;\">\n",
       "      <th></th>\n",
       "      <th>#Passengers</th>\n",
       "      <th>Predection</th>\n",
       "    </tr>\n",
       "    <tr>\n",
       "      <th>Month</th>\n",
       "      <th></th>\n",
       "      <th></th>\n",
       "    </tr>\n",
       "  </thead>\n",
       "  <tbody>\n",
       "    <tr>\n",
       "      <th>1958-04-01</th>\n",
       "      <td>348</td>\n",
       "      <td>375.078048</td>\n",
       "    </tr>\n",
       "    <tr>\n",
       "      <th>1958-05-01</th>\n",
       "      <td>363</td>\n",
       "      <td>380.222746</td>\n",
       "    </tr>\n",
       "    <tr>\n",
       "      <th>1958-06-01</th>\n",
       "      <td>435</td>\n",
       "      <td>383.332061</td>\n",
       "    </tr>\n",
       "    <tr>\n",
       "      <th>1958-07-01</th>\n",
       "      <td>491</td>\n",
       "      <td>385.919177</td>\n",
       "    </tr>\n",
       "    <tr>\n",
       "      <th>1958-08-01</th>\n",
       "      <td>505</td>\n",
       "      <td>388.372317</td>\n",
       "    </tr>\n",
       "    <tr>\n",
       "      <th>1958-09-01</th>\n",
       "      <td>404</td>\n",
       "      <td>390.791084</td>\n",
       "    </tr>\n",
       "    <tr>\n",
       "      <th>1958-10-01</th>\n",
       "      <td>359</td>\n",
       "      <td>393.201033</td>\n",
       "    </tr>\n",
       "    <tr>\n",
       "      <th>1958-11-01</th>\n",
       "      <td>310</td>\n",
       "      <td>395.608719</td>\n",
       "    </tr>\n",
       "    <tr>\n",
       "      <th>1958-12-01</th>\n",
       "      <td>337</td>\n",
       "      <td>398.015825</td>\n",
       "    </tr>\n",
       "    <tr>\n",
       "      <th>1959-01-01</th>\n",
       "      <td>360</td>\n",
       "      <td>400.422781</td>\n",
       "    </tr>\n",
       "    <tr>\n",
       "      <th>1959-02-01</th>\n",
       "      <td>342</td>\n",
       "      <td>402.829700</td>\n",
       "    </tr>\n",
       "    <tr>\n",
       "      <th>1959-03-01</th>\n",
       "      <td>406</td>\n",
       "      <td>405.236609</td>\n",
       "    </tr>\n",
       "    <tr>\n",
       "      <th>1959-04-01</th>\n",
       "      <td>396</td>\n",
       "      <td>407.643515</td>\n",
       "    </tr>\n",
       "    <tr>\n",
       "      <th>1959-05-01</th>\n",
       "      <td>420</td>\n",
       "      <td>410.050420</td>\n",
       "    </tr>\n",
       "    <tr>\n",
       "      <th>1959-06-01</th>\n",
       "      <td>472</td>\n",
       "      <td>412.457326</td>\n",
       "    </tr>\n",
       "    <tr>\n",
       "      <th>1959-07-01</th>\n",
       "      <td>548</td>\n",
       "      <td>414.864231</td>\n",
       "    </tr>\n",
       "    <tr>\n",
       "      <th>1959-08-01</th>\n",
       "      <td>559</td>\n",
       "      <td>417.271136</td>\n",
       "    </tr>\n",
       "    <tr>\n",
       "      <th>1959-09-01</th>\n",
       "      <td>463</td>\n",
       "      <td>419.678042</td>\n",
       "    </tr>\n",
       "    <tr>\n",
       "      <th>1959-10-01</th>\n",
       "      <td>407</td>\n",
       "      <td>422.084947</td>\n",
       "    </tr>\n",
       "    <tr>\n",
       "      <th>1959-11-01</th>\n",
       "      <td>362</td>\n",
       "      <td>424.491853</td>\n",
       "    </tr>\n",
       "    <tr>\n",
       "      <th>1959-12-01</th>\n",
       "      <td>405</td>\n",
       "      <td>426.898758</td>\n",
       "    </tr>\n",
       "    <tr>\n",
       "      <th>1960-01-01</th>\n",
       "      <td>417</td>\n",
       "      <td>429.305663</td>\n",
       "    </tr>\n",
       "    <tr>\n",
       "      <th>1960-02-01</th>\n",
       "      <td>391</td>\n",
       "      <td>431.712569</td>\n",
       "    </tr>\n",
       "    <tr>\n",
       "      <th>1960-03-01</th>\n",
       "      <td>419</td>\n",
       "      <td>434.119474</td>\n",
       "    </tr>\n",
       "    <tr>\n",
       "      <th>1960-04-01</th>\n",
       "      <td>461</td>\n",
       "      <td>436.526379</td>\n",
       "    </tr>\n",
       "    <tr>\n",
       "      <th>1960-05-01</th>\n",
       "      <td>472</td>\n",
       "      <td>438.933285</td>\n",
       "    </tr>\n",
       "    <tr>\n",
       "      <th>1960-06-01</th>\n",
       "      <td>535</td>\n",
       "      <td>441.340190</td>\n",
       "    </tr>\n",
       "    <tr>\n",
       "      <th>1960-07-01</th>\n",
       "      <td>622</td>\n",
       "      <td>443.747095</td>\n",
       "    </tr>\n",
       "    <tr>\n",
       "      <th>1960-08-01</th>\n",
       "      <td>606</td>\n",
       "      <td>446.154001</td>\n",
       "    </tr>\n",
       "    <tr>\n",
       "      <th>1960-09-01</th>\n",
       "      <td>508</td>\n",
       "      <td>448.560906</td>\n",
       "    </tr>\n",
       "    <tr>\n",
       "      <th>1960-10-01</th>\n",
       "      <td>461</td>\n",
       "      <td>450.967811</td>\n",
       "    </tr>\n",
       "    <tr>\n",
       "      <th>1960-11-01</th>\n",
       "      <td>390</td>\n",
       "      <td>453.374717</td>\n",
       "    </tr>\n",
       "    <tr>\n",
       "      <th>1960-12-01</th>\n",
       "      <td>432</td>\n",
       "      <td>455.781622</td>\n",
       "    </tr>\n",
       "  </tbody>\n",
       "</table>\n",
       "</div>"
      ],
      "text/plain": [
       "            #Passengers  Predection\n",
       "Month                              \n",
       "1958-04-01          348  375.078048\n",
       "1958-05-01          363  380.222746\n",
       "1958-06-01          435  383.332061\n",
       "1958-07-01          491  385.919177\n",
       "1958-08-01          505  388.372317\n",
       "1958-09-01          404  390.791084\n",
       "1958-10-01          359  393.201033\n",
       "1958-11-01          310  395.608719\n",
       "1958-12-01          337  398.015825\n",
       "1959-01-01          360  400.422781\n",
       "1959-02-01          342  402.829700\n",
       "1959-03-01          406  405.236609\n",
       "1959-04-01          396  407.643515\n",
       "1959-05-01          420  410.050420\n",
       "1959-06-01          472  412.457326\n",
       "1959-07-01          548  414.864231\n",
       "1959-08-01          559  417.271136\n",
       "1959-09-01          463  419.678042\n",
       "1959-10-01          407  422.084947\n",
       "1959-11-01          362  424.491853\n",
       "1959-12-01          405  426.898758\n",
       "1960-01-01          417  429.305663\n",
       "1960-02-01          391  431.712569\n",
       "1960-03-01          419  434.119474\n",
       "1960-04-01          461  436.526379\n",
       "1960-05-01          472  438.933285\n",
       "1960-06-01          535  441.340190\n",
       "1960-07-01          622  443.747095\n",
       "1960-08-01          606  446.154001\n",
       "1960-09-01          508  448.560906\n",
       "1960-10-01          461  450.967811\n",
       "1960-11-01          390  453.374717\n",
       "1960-12-01          432  455.781622"
      ]
     },
     "execution_count": 24,
     "metadata": {},
     "output_type": "execute_result"
    }
   ],
   "source": [
    "test"
   ]
  },
  {
   "cell_type": "code",
   "execution_count": 25,
   "id": "a8c4c014",
   "metadata": {},
   "outputs": [],
   "source": [
    "def get_mape(actual, predicted):\n",
    "    y_true, y_pred = np.array(actual), np.array(predicted)\n",
    "    return np.round(np.mean(np.abs((actual - predicted) / actual)) * 100, 2)"
   ]
  },
  {
   "cell_type": "code",
   "execution_count": 26,
   "id": "c30d68c6",
   "metadata": {},
   "outputs": [
    {
     "data": {
      "text/plain": [
       "12.04"
      ]
     },
     "execution_count": 26,
     "metadata": {},
     "output_type": "execute_result"
    }
   ],
   "source": [
    "get_mape(test['#Passengers'], test['Predection'])"
   ]
  },
  {
   "cell_type": "markdown",
   "id": "cb9d8e7c",
   "metadata": {},
   "source": [
    "### The mean average percentage error is 12.04"
   ]
  },
  {
   "cell_type": "code",
   "execution_count": null,
   "id": "6baca084",
   "metadata": {},
   "outputs": [],
   "source": []
  }
 ],
 "metadata": {
  "kernelspec": {
   "display_name": "Python 3 (ipykernel)",
   "language": "python",
   "name": "python3"
  },
  "language_info": {
   "codemirror_mode": {
    "name": "ipython",
    "version": 3
   },
   "file_extension": ".py",
   "mimetype": "text/x-python",
   "name": "python",
   "nbconvert_exporter": "python",
   "pygments_lexer": "ipython3",
   "version": "3.9.7"
  }
 },
 "nbformat": 4,
 "nbformat_minor": 5
}
